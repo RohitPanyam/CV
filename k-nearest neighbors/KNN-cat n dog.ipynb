{
 "cells": [
  {
   "cell_type": "code",
   "execution_count": 143,
   "id": "a6e2d6e1",
   "metadata": {},
   "outputs": [],
   "source": [
    "import numpy as np\n",
    "import pandas as pd\n",
    "import cv2 as cv\n",
    "import os\n",
    "import matplotlib.pyplot as plt\n",
    "from sklearn.model_selection import train_test_split"
   ]
  },
  {
   "cell_type": "code",
   "execution_count": 147,
   "id": "506af374",
   "metadata": {},
   "outputs": [
    {
     "name": "stdout",
     "output_type": "stream",
     "text": [
      "['dogs', 'cats']\n"
     ]
    }
   ],
   "source": [
    "def image_to_feature_vector(image, size=(32, 32)):\n",
    "    return cv2.resize(image, size).flatten()\n",
    "\n",
    "def load_image(main_folder_path,dim=(64,64)):\n",
    "    folders = [dic for dic in os.listdir(main_folder_path)]\n",
    "    folders.remove('.DS_Store')\n",
    "    print(folders)\n",
    "    \n",
    "    images = []\n",
    "    target = []\n",
    "    count = 0\n",
    "    x = []\n",
    "    for i, direc in enumerate(folders):\n",
    "#         print(direc)\n",
    "        for file in os.listdir(main_folder_path+direc):\n",
    "            count += 1\n",
    "            img_path = main_folder_path+direc+\"/\"+file\n",
    "#             print(img_path)\n",
    "            img = cv.imread(img_path)\n",
    "            if img is not None:\n",
    "                img = cv.cvtColor(img, cv.COLOR_BGR2GRAY)\n",
    "                img_pred = cv.resize(img, dim, interpolation=cv.INTER_AREA)\n",
    "                img_pred = image.img_to_array(img_pred)\n",
    "                img_pred = img_pred / 255\n",
    "                x.append(img_pred)\n",
    "            else:\n",
    "                count-=1\n",
    "        target.append([i]*count)\n",
    "        count = 0\n",
    "#         print(x)\n",
    "    return x,target\n",
    "    \n",
    "x,y = load_image('data/training_set/')"
   ]
  },
  {
   "cell_type": "markdown",
   "id": "b985d537",
   "metadata": {},
   "source": [
    "0 - dog ;\n",
    "1 - cat"
   ]
  },
  {
   "cell_type": "code",
   "execution_count": 148,
   "id": "b94c236a",
   "metadata": {},
   "outputs": [],
   "source": [
    "# print(len(x))\n",
    "# len(y[1])\n",
    "target = y[0] + y[1]\n",
    "len(target)\n",
    "x = np.array(x)\n",
    "target = np.array(target)"
   ]
  },
  {
   "cell_type": "code",
   "execution_count": 149,
   "id": "aad0a2d6",
   "metadata": {},
   "outputs": [],
   "source": [
    "x_train, x_test, y_train, y_test = train_test_split(x, target, random_state=42, test_size=0.2)\n",
    "x_val, x_test, y_val, y_test = train_test_split(x_test, y_test, random_state=42, test_size=0.5)"
   ]
  },
  {
   "cell_type": "code",
   "execution_count": 150,
   "id": "08b65c66",
   "metadata": {},
   "outputs": [
    {
     "data": {
      "text/plain": [
       "3204"
      ]
     },
     "execution_count": 150,
     "metadata": {},
     "output_type": "execute_result"
    }
   ],
   "source": [
    "len(x_train)"
   ]
  },
  {
   "cell_type": "code",
   "execution_count": 151,
   "id": "0495ae3c",
   "metadata": {},
   "outputs": [],
   "source": [
    "num_training = x_train.shape[0]\n",
    "mask = list(range(num_training))\n",
    "x_train = x_train[mask]\n",
    "y_train = y_train[mask]\n",
    "\n",
    "num_test = x_test.shape[0]\n",
    "mask = list(range(num_test))\n",
    "x_test = x_test[mask]\n",
    "y_test = y_test[mask]\n",
    "\n",
    "num_val = x_val.shape[0]\n",
    "mask = list(range(num_val))\n",
    "x_val = x_val[mask]\n",
    "y_val = y_val[mask]\n",
    "\n",
    "# Reshape the image data into rows\n",
    "x_train = np.reshape(x_train, (x_train.shape[0], -1))\n",
    "x_test = np.reshape(x_test, (x_test.shape[0], -1))\n",
    "x_val = np.reshape(x_val, (x_val.shape[0], -1))"
   ]
  },
  {
   "cell_type": "code",
   "execution_count": 152,
   "id": "c712d8d5",
   "metadata": {},
   "outputs": [
    {
     "name": "stdout",
     "output_type": "stream",
     "text": [
      "0.6259351620947631\n"
     ]
    },
    {
     "data": {
      "text/plain": [
       "99"
      ]
     },
     "execution_count": 152,
     "metadata": {},
     "output_type": "execute_result"
    }
   ],
   "source": [
    "# k=1\n",
    "from sklearn.neighbors import KNeighborsClassifier\n",
    "max_acc = 0\n",
    "k_max = 1\n",
    "all_acc = []\n",
    "for k in range(1,100):\n",
    "    knn = KNeighborsClassifier(n_neighbors=k)\n",
    "    knn.fit(x_train, y_train)\n",
    "    pred = knn.predict(x_test)\n",
    "    num_correct = np.sum(y_test == pred)\n",
    "    accu = num_correct/len(y_test) #accuracy of the following it is\n",
    "    all_acc.append(accu)\n",
    "    if accu > max_acc:\n",
    "        max_acc = accu\n",
    "        k_max = k\n",
    "print(max_acc)\n",
    "k"
   ]
  },
  {
   "cell_type": "markdown",
   "id": "e65e1bff",
   "metadata": {},
   "source": [
    "so at k = 99 we found that this classification has the highest accuaracy, i.e 0.625"
   ]
  },
  {
   "cell_type": "code",
   "execution_count": 153,
   "id": "78347606",
   "metadata": {},
   "outputs": [],
   "source": [
    "# # max(all_acc)\n",
    "# knn = KNeighborsClassifier(n_neighbors=160)\n",
    "# knn.fit(x_train, y_train)\n",
    "# pred = knn.predict(x_test)\n",
    "# num_correct = np.sum(y_test == pred)\n",
    "# accu = num_correct/len(y_test)\n",
    "# accu"
   ]
  },
  {
   "cell_type": "code",
   "execution_count": null,
   "id": "37789d34",
   "metadata": {},
   "outputs": [],
   "source": []
  }
 ],
 "metadata": {
  "kernelspec": {
   "display_name": "Python 3 (ipykernel)",
   "language": "python",
   "name": "python3"
  },
  "language_info": {
   "codemirror_mode": {
    "name": "ipython",
    "version": 3
   },
   "file_extension": ".py",
   "mimetype": "text/x-python",
   "name": "python",
   "nbconvert_exporter": "python",
   "pygments_lexer": "ipython3",
   "version": "3.8.12"
  }
 },
 "nbformat": 4,
 "nbformat_minor": 5
}
